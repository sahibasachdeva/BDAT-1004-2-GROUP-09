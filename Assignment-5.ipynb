{
 "cells": [
  {
   "cell_type": "markdown",
   "metadata": {},
   "source": [
    "#### EXERCISE 11.1"
   ]
  },
  {
   "cell_type": "code",
   "execution_count": 7,
   "metadata": {},
   "outputs": [
    {
     "name": "stdout",
     "output_type": "stream",
     "text": [
      "enter the filename mbox-short.txt\n",
      "enter the pattern ^A\n",
      "mbox-short.txt had 33 that matched ^A\n"
     ]
    }
   ],
   "source": [
    "import re\n",
    "\n",
    "def findpatterninfile(filename, pattern):\n",
    "    count = 0\n",
    "    try:\n",
    "        file = open(filename,'r')\n",
    "    except:\n",
    "        print(\"Could not open the file\")\n",
    "\n",
    "    for line in file:\n",
    "        line.rstrip()      \n",
    "        if re.search(pattern, line):\n",
    "            count = count+1           \n",
    "    print(filename, \"had\", str(count),  \"that matched\" ,pattern)\n",
    "\n",
    "file = input(\"enter the filename \")\n",
    "pattern = input(\"enter the pattern \")\n",
    "findpatterninfile(file, pattern)"
   ]
  },
  {
   "cell_type": "markdown",
   "metadata": {},
   "source": [
    "#### EXERCISE 11.2"
   ]
  },
  {
   "cell_type": "code",
   "execution_count": 8,
   "metadata": {},
   "outputs": [
    {
     "name": "stdout",
     "output_type": "stream",
     "text": [
      "enter the name of the filembox-short.txt\n",
      "39756.92592592593\n"
     ]
    }
   ],
   "source": [
    "import re\n",
    "\n",
    "def Average(filename):\n",
    "    count = 0\n",
    "    revisions = 0\n",
    "    try:\n",
    "        file = open(filename, \"r\")\n",
    "    except:\n",
    "        print(\"Unable to open the file\")\n",
    "    \n",
    "    for line in file:\n",
    "        if re.findall('New Revision: 397*', line):\n",
    "            number = line[14:19]\n",
    "            count += 1\n",
    "            revisions = revisions + float(number)            \n",
    "    average = revisions/count\n",
    "    print(average)\n",
    "\n",
    "file = input(\"enter the name of the file\")\n",
    "Average(file)"
   ]
  },
  {
   "cell_type": "markdown",
   "metadata": {},
   "source": [
    "#### EXERCISE 12.1"
   ]
  },
  {
   "cell_type": "code",
   "execution_count": 9,
   "metadata": {},
   "outputs": [
    {
     "name": "stdout",
     "output_type": "stream",
     "text": [
      "Enter the urlhttp://data.pr4e.org/clown.txt\n",
      "http://data.pr4e.org/clown.txt\n",
      "data.pr4e.org\n",
      "b'GET http://data.pr4e.org/clown.txt HTTP/1.0\\r\\n\\r\\n'\n",
      "HTTP/1.1 200 OK\n",
      "Date: Thu, 13 Feb 2020 00:27:35 GMT\n",
      "Server: Apache/2.4.18 (Ubuntu)\n",
      "Last-Modified: Sat, 13 May 2017 11:22:22 GMT\n",
      "ETag: \"6a-54f6609240717\"\n",
      "Accept-Ranges: bytes\n",
      "Content-Length: 106\n",
      "Cache-Control: max-age=0, no-cache, no-store, must-revalidate\n",
      "Pragma: no-cache\n",
      "Expires: Wed, 11 Jan 1984 05:00:00 GMT\n",
      "Connection: close\n",
      "Content-Type: text/plain\n",
      "\n",
      "the clown ran after the car and the car ran into the tent and the tent fell down on the clown and the car\n"
     ]
    }
   ],
   "source": [
    "import socket\n",
    "import os\n",
    "\n",
    "url = input(\"Enter the url\")\n",
    "try:\n",
    "    print(url)\n",
    "    \n",
    "    hostName = url.split(\"/\")[2]\n",
    "    print(hostName)    \n",
    "    mysock = socket.socket(socket.AF_INET, socket.SOCK_STREAM)\n",
    "    mysock.connect((hostName, 80))\n",
    "    cmd = f'GET {url} HTTP/1.0\\r\\n\\r\\n'.encode()\n",
    "    print(cmd)\n",
    "    mysock.send(cmd)\n",
    "    \n",
    "except:\n",
    "    print(\"Please enter a valid URL\")\n",
    "    #Console got stuck without this\n",
    "    os.sys.exit(1)\n",
    "    \n",
    "\n",
    "while True:\n",
    "    data = mysock.recv(512)\n",
    "    if (len(data) < 1):\n",
    "        break\n",
    "    print(data.decode(),end='')\n",
    "\n",
    "mysock.close()"
   ]
  },
  {
   "cell_type": "markdown",
   "metadata": {},
   "source": [
    "#### EXERCISE 12.2"
   ]
  },
  {
   "cell_type": "code",
   "execution_count": 5,
   "metadata": {},
   "outputs": [
    {
     "name": "stdout",
     "output_type": "stream",
     "text": [
      "Enter the urlhttp://data.pr4e.org/clown.txt\n",
      "http://data.pr4e.org/clown.txt\n",
      "data.pr4e.org\n",
      "b'GET http://data.pr4e.org/clown.txt HTTP/1.0\\r\\n\\r\\n'\n",
      "HTTP/1.1 200 OK\n",
      "Date: Thu, 13 Feb 2020 00:24:00 GMT\n",
      "Server: Apache/2.4.18 (Ubuntu)\n",
      "Last-Modified: Sat, 13 May 2017 11:22:22 GMT\n",
      "ETag: \"6a-54f6609240717\"\n",
      "Accept-Ranges: bytes\n",
      "Content-Length: 106\n",
      "Cache-Control: max-age=0, no-cache, no-store, must-revalidate\n",
      "Pragma: no-cache\n",
      "Expires: Wed, 11 Jan 1984 05:00:00 GMT\n",
      "Connection: close\n",
      "Content-Type: text/plain\n",
      "\n",
      "the clown ran after the car and the car ran into the tent and the tent fell down on the clown and the car\n",
      "475\n"
     ]
    }
   ],
   "source": [
    "import socket\n",
    "import os\n",
    "\n",
    "url = input(\"Enter the url\")\n",
    "try:\n",
    "    print(url)\n",
    "    \n",
    "    hostName = url.split(\"/\")[2]\n",
    "    print(hostName)    \n",
    "    mysock = socket.socket(socket.AF_INET, socket.SOCK_STREAM)\n",
    "    mysock.connect((hostName, 80))\n",
    "    cmd = f'GET {url} HTTP/1.0\\r\\n\\r\\n'.encode()\n",
    "    print(cmd)\n",
    "    mysock.send(cmd)\n",
    "    \n",
    "except:\n",
    "    print(\"Please enter a valid URL\")\n",
    "    #Console got stuck without this\n",
    "    os.sys.exit(1)\n",
    "    \n",
    "count = 0\n",
    "while True:\n",
    "    data = mysock.recv(512)\n",
    "    count += len(data)\n",
    "    if (len(data) < 1) or (count >= 3000):\n",
    "        break\n",
    "    print(data.decode(),end='')\n",
    "\n",
    "mysock.close()\n",
    "print(count)"
   ]
  },
  {
   "cell_type": "markdown",
   "metadata": {},
   "source": [
    "#### EXERCISE 12.3"
   ]
  },
  {
   "cell_type": "code",
   "execution_count": 12,
   "metadata": {},
   "outputs": [
    {
     "name": "stdout",
     "output_type": "stream",
     "text": [
      "enter the URLhttp://data.pr4e.org/intro-short.txt\n",
      "Why should you learn to write programs?\n",
      "\n",
      "Writing programs (or programming) is a very creative\n",
      "and rewarding activity.  You can write programs for\n",
      "many reasons, ranging from making your living to solving\n",
      "a difficult data analysis problem to having fun to helping\n",
      "someone else solve a problem.  This book assumes that\n",
      "everyone needs to know how to program, and that once\n",
      "you know how to program you will figure out what you want\n",
      "to do with your newfound skills.\n",
      "467\n"
     ]
    }
   ],
   "source": [
    "import urllib.request\n",
    "import urllib.parse\n",
    "import urllib.error\n",
    "\n",
    "\n",
    "fileName = input('enter the URL')\n",
    "file = urllib.request.urlopen(fileName)\n",
    "\n",
    "characters = 0\n",
    "for line in file:\n",
    "    words = line.decode()\n",
    "    characters = characters + len(words)\n",
    "    if characters < 3000:\n",
    "        print(line.decode().strip())\n",
    "print(characters)"
   ]
  },
  {
   "cell_type": "markdown",
   "metadata": {},
   "source": [
    "#### EXERCISE 12.4"
   ]
  },
  {
   "cell_type": "code",
   "execution_count": 10,
   "metadata": {},
   "outputs": [
    {
     "name": "stdout",
     "output_type": "stream",
     "text": [
      "Enter the URL :- http://data.pr4e.org/page1.htm\n",
      "\n",
      "The total number of Paragraphs are 1\n"
     ]
    }
   ],
   "source": [
    "import urllib.request\n",
    "import urllib.parse\n",
    "import urllib.error\n",
    "import ssl\n",
    "from bs4 import BeautifulSoup\n",
    "\n",
    "ctx = ssl.create_default_context()\n",
    "ctx.check_hostname = False\n",
    "ctx.verify_mode = ssl.CERT_NONE\n",
    "\n",
    "url = input('Enter the URL :- ')\n",
    "html = urllib.request.urlopen(url, context=ctx).read()\n",
    "test = BeautifulSoup(html, 'html.parser')\n",
    "\n",
    "count = 0                             \n",
    "\n",
    "Data = test('p')\n",
    "for i in Data:    \n",
    "    count += 1                         \n",
    "print(\"\\nThe total number of Paragraphs are \" + str(count))"
   ]
  },
  {
   "cell_type": "markdown",
   "metadata": {},
   "source": [
    "#### EXERCISE 12.5"
   ]
  },
  {
   "cell_type": "code",
   "execution_count": 11,
   "metadata": {},
   "outputs": [
    {
     "name": "stdout",
     "output_type": "stream",
     "text": [
      "Enter a valid URL :- http://data.pr4e.org/page2.htm\n",
      "\n",
      "\n",
      "<h1>The Second Page</h1>\n",
      "<p>\n",
      "If you like, you can switch back to the \n",
      "<a href=\"page1.htm\">\n",
      "First Page</a>.\n",
      "</p>\n",
      "\n"
     ]
    }
   ],
   "source": [
    "import socket\n",
    "import re\n",
    "import validators\n",
    "\n",
    "path=input(\"Enter a valid URL :- \")\n",
    "\n",
    "try:\n",
    "    host=path.split(\"/\")[2]\n",
    "    my_sock = socket.socket(socket.AF_INET, socket.SOCK_STREAM)\n",
    "    my_sock.connect((str(host), 80))\n",
    "    cmd = 'GET ' + str(path)+' HTTP/1.0\\r\\n\\r\\n'\n",
    "    my_sock.send(cmd.encode())\n",
    "    \n",
    "    result=\" \"\n",
    "    header = \"\\r\\n\\r\\n\"\n",
    "    \n",
    "    \n",
    "    \n",
    "    while True:                                \n",
    "        data = my_sock.recv(512)\n",
    "        if len(data) < 1:\n",
    "             break\n",
    "        for message in data.decode():\n",
    "            for lin in message:\n",
    "                    result+=lin\n",
    "    \n",
    "    print(result[result.find(header):])\n",
    "    \n",
    "except exception as e:\n",
    "    print(e)\n",
    "                                        \n",
    "    \n",
    "my_sock.close()"
   ]
  },
  {
   "cell_type": "code",
   "execution_count": null,
   "metadata": {},
   "outputs": [],
   "source": []
  }
 ],
 "metadata": {
  "kernelspec": {
   "display_name": "Python 3",
   "language": "python",
   "name": "python3"
  },
  "language_info": {
   "codemirror_mode": {
    "name": "ipython",
    "version": 3
   },
   "file_extension": ".py",
   "mimetype": "text/x-python",
   "name": "python",
   "nbconvert_exporter": "python",
   "pygments_lexer": "ipython3",
   "version": "3.7.4"
  }
 },
 "nbformat": 4,
 "nbformat_minor": 2
}
