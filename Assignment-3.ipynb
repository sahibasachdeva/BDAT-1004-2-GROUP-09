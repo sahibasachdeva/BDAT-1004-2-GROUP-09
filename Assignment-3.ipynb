{
 "cells": [
  {
   "cell_type": "markdown",
   "metadata": {},
   "source": [
    "#### 1. Write a program that takes as input two opposite corners of a rectangle: the lower left-hand corner (x1,y1) and the upper right-hand corner (x2,y2). Finally, the user is prompted for the coordinates of a third point (x,y). The program should print Boolean value True or False based on whether the point (x,y) lies within the rectangle."
   ]
  },
  {
   "cell_type": "code",
   "execution_count": 3,
   "metadata": {},
   "outputs": [
    {
     "name": "stdout",
     "output_type": "stream",
     "text": [
      "Enter x1: 3\n",
      "Enter y1: 5\n",
      "Enter x2: 7\n",
      "Enter y2: 8\n",
      "Enter x: 9\n",
      "Enter y: 1\n",
      "False\n"
     ]
    }
   ],
   "source": [
    "x1 = int(input(\"Enter x1: \"))\n",
    "y1 = int(input(\"Enter y1: \"))\n",
    "x2 = int(input(\"Enter x2: \"))\n",
    "y2 = int(input(\"Enter y2: \"))\n",
    "x = int(input(\"Enter x: \"))\n",
    "y = int(input(\"Enter y: \"))\n",
    "if (x >= x1 and x <= x2) and (y >= y1 and y <= y2):\n",
    "    print(True)\n",
    "else:\n",
    "     print(False)"
   ]
  },
  {
   "cell_type": "code",
   "execution_count": 5,
   "metadata": {},
   "outputs": [
    {
     "name": "stdout",
     "output_type": "stream",
     "text": [
      "Enter x1: 1\n",
      "Enter y1: 3\n",
      "Enter x2: 10\n",
      "Enter y2: 6\n",
      "Enter x: 4\n",
      "Enter y: 2\n",
      "False\n"
     ]
    }
   ],
   "source": [
    "x1 = int(input(\"Enter x1: \"))\n",
    "y1 = int(input(\"Enter y1: \"))\n",
    "x2 = int(input(\"Enter x2: \"))\n",
    "y2 = int(input(\"Enter y2: \"))\n",
    "x = int(input(\"Enter x: \"))\n",
    "y = int(input(\"Enter y: \"))\n",
    "if (x >= x1 and x <= x2) and (y >= y1 and y <= y2):\n",
    "    print(True)\n",
    "else:\n",
    "     print(False)"
   ]
  },
  {
   "cell_type": "markdown",
   "metadata": {},
   "source": [
    "####  2. Write a program that prints all the composers in the list\n",
    "['Rzewski', 'Ruggles', 'Carter', 'Stockhausen', 'Stravinsky']\n",
    "Whose name has at least 10 characters.\n"
   ]
  },
  {
   "cell_type": "code",
   "execution_count": 1,
   "metadata": {},
   "outputs": [
    {
     "name": "stdout",
     "output_type": "stream",
     "text": [
      "Stockhausen\n",
      "Stravinsky\n"
     ]
    }
   ],
   "source": [
    "composer = ['Rzewski', 'Ruggles', 'Carter', 'Stockhausen', 'Stravinsky'] \n",
    "for x in composer:\n",
    "    if len(x)>=10:\n",
    "        print(x)"
   ]
  },
  {
   "cell_type": "markdown",
   "metadata": {},
   "source": [
    "#### 3. Write a program that prints all the composers in the list \n",
    "\n",
    "['Antheil', 'Elgar', 'Saint-Saens', 'Chadwick', 'Coleridge-Taylor', 'Parker', 'Castelnuovo-Tedesco']\n",
    "\n",
    "that do not have a double name. Hint: assume that a composer with a double name contains a space ' ' or a hyphen '-'.\n"
   ]
  },
  {
   "cell_type": "code",
   "execution_count": 1,
   "metadata": {},
   "outputs": [
    {
     "name": "stdout",
     "output_type": "stream",
     "text": [
      "Antheil\n",
      "Elgar\n",
      "Chadwick\n",
      "Parker\n"
     ]
    }
   ],
   "source": [
    "list1=['Antheil', 'Elgar', 'Saint-Saens', 'Chadwick', 'Coleridge-Taylor', 'Parker', 'Castelnuovo-Tedesco']\n",
    "\n",
    "for x in list1:\n",
    "    if not x.__contains__('-'):\n",
    "        print(x)"
   ]
  },
  {
   "cell_type": "markdown",
   "metadata": {},
   "source": [
    "#### 4. You can turn a word into pig-Latin using the following two rules (simplified):\n",
    "•\tIf the word starts with a consonant, move that letter to the end and append 'ay'. For example, 'happy' becomes 'appyhay' and 'pencil' becomes 'encilpay'.\n",
    "•\tIf the word starts with a vowel, simply append 'way' to the end of the word. For example, 'enter' becomes 'enterway' and 'other' becomes 'otherway' . For our purposes, there are 5 vowels: a, e, i, o, u (so we count y as a consonant).\n",
    "Write a function pig() that takes a word (i.e., a string) as input and returns its pig-Latin form. Your function should still work if the input word contains upper case characters. Your output should always be lower case however. "
   ]
  },
  {
   "cell_type": "code",
   "execution_count": 14,
   "metadata": {},
   "outputs": [
    {
     "name": "stdout",
     "output_type": "stream",
     "text": [
      "Enter the wordhappy\n",
      "appyhay\n"
     ]
    }
   ],
   "source": [
    "str1=input(\"enter any word: \")\n",
    "\n",
    "str1=str1.lower()\n",
    "\n",
    "if str1.startswith('a'):\n",
    "    str2 = str1[1:] + str1[:1] + 'ay'\n",
    "    print(str2)\n",
    "elif str1.startswith('e'):\n",
    "    str2 = str1[1:] + str1[:1] + 'ay'\n",
    "    print(str2)\n",
    "elif str1.startswith('i'):\n",
    "    str2 = str1[1:] + str1[:1] + 'ay'\n",
    "    print(str2)\n",
    "elif str1.startswith('o'):\n",
    "    str2 = str1[1:] + str1[:1] + 'ay'\n",
    "    print(str2)\n",
    "elif str1.startswith('u'):\n",
    "    str2 = str1[1:] + str1[:1] + 'ay'\n",
    "    print(str2)\n",
    "\n",
    "else:\n",
    "    str2 = str1 + 'way'\n",
    "    print(str2)"
   ]
  },
  {
   "cell_type": "code",
   "execution_count": 15,
   "metadata": {},
   "outputs": [
    {
     "name": "stdout",
     "output_type": "stream",
     "text": [
      "enter any word: Enter\n",
      "ntereay\n"
     ]
    }
   ],
   "source": [
    "str1=input(\"enter any word: \")\n",
    "\n",
    "str1=str1.lower()\n",
    "\n",
    "if str1.startswith('a'):\n",
    "    str2 = str1[1:] + str1[:1] + 'ay'\n",
    "    print(str2)\n",
    "elif str1.startswith('e'):\n",
    "    str2 = str1[1:] + str1[:1] + 'ay'\n",
    "    print(str2)\n",
    "elif str1.startswith('i'):\n",
    "    str2 = str1[1:] + str1[:1] + 'ay'\n",
    "    print(str2)\n",
    "elif str1.startswith('o'):\n",
    "    str2 = str1[1:] + str1[:1] + 'ay'\n",
    "    print(str2)\n",
    "elif str1.startswith('u'):\n",
    "    str2 = str1[1:] + str1[:1] + 'ay'\n",
    "    print(str2)\n",
    "\n",
    "else:\n",
    "    str2 = str1 + 'way'\n",
    "    print(str2)"
   ]
  },
  {
   "cell_type": "markdown",
   "metadata": {},
   "source": [
    "#### 5. Implement function date that takes 4 inputs: \n",
    "•\ta non-abbreviated weekday (as a string)\n",
    "•\ta non-abbreviated month (as a string)\n",
    "•\ta day in the month (a an integer)\n",
    "•\ta year (as an integer)\n",
    "Function date() should return the complete date (as a string)  using 3-character abbreviations for the weekday and month and using the format shown below"
   ]
  },
  {
   "cell_type": "code",
   "execution_count": 5,
   "metadata": {},
   "outputs": [
    {
     "name": "stdout",
     "output_type": "stream",
     "text": [
      "enter weekday : Wednesday\n",
      "enter month : January\n",
      "enter date : 29\n",
      "enter year : 2020\n",
      "Wed, Jan 29, 2020\n"
     ]
    }
   ],
   "source": [
    "str1=input(\"enter weekday : \")\n",
    "str2=input(\"enter month : \")\n",
    "str3=int(input(\"enter date : \"))\n",
    "str4=int(input(\"enter year : \"))\n",
    "\n",
    "str1=str1[0:3]\n",
    "str2=str2[0:3]\n",
    "\n",
    "Date=(str1 + ', ' + str2 + ' ' +str(str3) +', ' + str(str4))\n",
    "print(Date)"
   ]
  },
  {
   "cell_type": "markdown",
   "metadata": {},
   "source": [
    "#### 6. Write a function called electionResults() that takes 2 lists as parameters. The first list contains the names of political parties, in a given order; the second contains, in the same order, the vote total each party received in a local election. Your function should print the name of each party followed by the word “Party”, in a column 30 characters wide; the number of votes each received in a column 10 characters wide; and the percentage of the vote each received in a column 10 characters wide, rounded to 2 decimal places, followed by the percent sign ‘%’. (Vote totals may not add to exactly 100.00% because of rounding.)"
   ]
  },
  {
   "cell_type": "code",
   "execution_count": 6,
   "metadata": {},
   "outputs": [
    {
     "name": "stdout",
     "output_type": "stream",
     "text": [
      "Sensible party                  29412          49.98%\n",
      "Silly party                     29397          49.96%\n",
      "Very Silly party                37              0.06%\n"
     ]
    }
   ],
   "source": [
    "list1=['Sensible ', 'Silly ', 'Very Silly ']\n",
    "list2=[29412, 29397, 37]\n",
    "total=sum(list2)\n",
    "\n",
    "for i in range(0, len(list1)):\n",
    "    \n",
    "    list1[i] = list1[i]+ 'party '\n",
    "    s1=str((list2[i]/total)*100)\n",
    "    \n",
    "    merged_list = list1[i] +\",\"+ \" \"+ str(list2[i]) + \" \"+\",\"+ s1 \n",
    "    data1=merged_list.split(\",\",2)\n",
    "    data1[2]=float(data1[2])\n",
    "    \n",
    "    print('{:30} {:10} {:10.2f}%'.format(data1[0],data1[1],data1[2]))"
   ]
  },
  {
   "cell_type": "markdown",
   "metadata": {},
   "source": [
    "#### 7. Write a function called countWord(). It takes 2 parameters: The name of a text file (e.g. gettysburg.txt) and a word to be searched within that file. Your code should return the number of times the given word appears in the file. "
   ]
  },
  {
   "cell_type": "code",
   "execution_count": 7,
   "metadata": {},
   "outputs": [
    {
     "name": "stdout",
     "output_type": "stream",
     "text": [
      "Enter the text you want to count :- people\n",
      "3\n"
     ]
    }
   ],
   "source": [
    "infile=open('gettysburg.txt','r')\n",
    "\n",
    "word=input(\"Enter the text you want to count :- \")\n",
    "count=0\n",
    "\n",
    "passage=infile.read()\n",
    "count=passage.count(word)\n",
    "print(count)\n",
    "\n",
    "infile.close()"
   ]
  },
  {
   "cell_type": "markdown",
   "metadata": {},
   "source": [
    "#### 8. File bloodtype1.txt records blood-types of patients (A, B, AB, O or OO) at a clinic. Write a function bldcount() that reads the file with name name and reports (i.e., prints) how many patients there are in each bloodtype"
   ]
  },
  {
   "cell_type": "code",
   "execution_count": 8,
   "metadata": {},
   "outputs": [
    {
     "name": "stdout",
     "output_type": "stream",
     "text": [
      "There is 13 patients of blood type AB\n",
      "There is 15 patients of blood type A\n",
      "There is 1 patients of blood type B\n",
      "There is 15 patients of blood type O\n",
      "There is 0 patients of blood type OO\n"
     ]
    }
   ],
   "source": [
    "infile=open('bloodtype1.txt','r')\n",
    "\n",
    "ab_blood=0\n",
    "a_blood=0\n",
    "b_blood=0\n",
    "o_blood=0\n",
    "oo_blood=0\n",
    "\n",
    "for word in infile.read().split():\n",
    "    if 'AB' == word:\n",
    "        ab_blood=ab_blood+1\n",
    "    elif 'A' == word:\n",
    "        a_blood=a_blood+1\n",
    "    elif 'B' == word:\n",
    "        b_blood=b_blood+1\n",
    "    elif 'O' == word:\n",
    "        o_blood=o_blood+1\n",
    "    elif 'OO' == word:\n",
    "        oo_blood=oo_blood+1\n",
    "\n",
    "print('There is ' + str(ab_blood) + ' patients ' +'of blood type AB')\n",
    "print('There is ' + str(a_blood) + ' patients ' +'of blood type A')\n",
    "print('There is ' + str(b_blood) + ' patients ' +'of blood type B')\n",
    "print('There is ' + str(o_blood) + ' patients ' +'of blood type O')\n",
    "print('There is ' + str(oo_blood) + ' patients ' +'of blood type OO')\n",
    "\n",
    "infile.close()"
   ]
  },
  {
   "cell_type": "markdown",
   "metadata": {},
   "source": [
    "#### 9.Write code that opens the file logfile.txt in the current directory and appends the following line of text: “Processing complete, ending program normally.”"
   ]
  },
  {
   "cell_type": "code",
   "execution_count": 5,
   "metadata": {},
   "outputs": [],
   "source": [
    "infile=open('logfiles.txt','a')\n",
    "infile.write('Processing complete, ending program normally')\n",
    "infile.close()"
   ]
  },
  {
   "cell_type": "markdown",
   "metadata": {},
   "source": [
    "#### 10. You have a file quotes.txt containing quotes, one per line, on security. Write a function quote() that takes a piece of text (i.e., a string) as input and prints any quote that contains that piece of text."
   ]
  },
  {
   "cell_type": "code",
   "execution_count": 10,
   "metadata": {},
   "outputs": [
    {
     "name": "stdout",
     "output_type": "stream",
     "text": [
      "Enter the word :- watch\n",
      "'Who will watch the watchmen.' Juvenal\n",
      "\n"
     ]
    }
   ],
   "source": [
    "infile=open('quotes.txt','r')\n",
    "\n",
    "word=input(\"Enter the word :- \")\n",
    "\n",
    "for line in infile:\n",
    "    if word in line:\n",
    "        print(line)\n",
    "infile.close()"
   ]
  },
  {
   "cell_type": "code",
   "execution_count": 11,
   "metadata": {},
   "outputs": [
    {
     "name": "stdout",
     "output_type": "stream",
     "text": [
      "Enter the word :- who\n",
      "'Anyone who considers arithmetical methods of producing random digits is, of course, in a state of sin.' John Von Neumann\n",
      "\n"
     ]
    }
   ],
   "source": [
    "infile=open('quotes.txt','r')\n",
    "\n",
    "word=input(\"Enter the word :- \")\n",
    "\n",
    "for line in infile:\n",
    "    if word in line:\n",
    "        print(line)\n",
    "infile.close()"
   ]
  },
  {
   "cell_type": "code",
   "execution_count": 12,
   "metadata": {},
   "outputs": [
    {
     "name": "stdout",
     "output_type": "stream",
     "text": [
      "Enter the word :- is\n",
      "'The price of freedom is eternal vigilance.' Thomas Jefferson\n",
      "\n",
      "'Anyone who considers arithmetical methods of producing random digits is, of course, in a state of sin.' John Von Neumann\n",
      "\n",
      "'And so it often happens that an apparently ingenious idea is in fact a weakness which the scientific cryptographer seizes on for his solution.' Herbert Yardley\n"
     ]
    }
   ],
   "source": [
    "infile=open('quotes.txt','r')\n",
    "\n",
    "word=input(\"Enter the word :- \")\n",
    "\n",
    "for line in infile:\n",
    "    if word in line:\n",
    "        print(line)\n",
    "infile.close()"
   ]
  },
  {
   "cell_type": "markdown",
   "metadata": {},
   "source": [
    "#### 11. You want to know how many people there are in the US with your last name. So from the government’s census site (http://www.census.gov/) you have downloaded last name statistics and put them in the file last.txt. Each line contains a last name (in all upper case) and a percentage. Here is the beginning of the file:"
   ]
  },
  {
   "cell_type": "code",
   "execution_count": 18,
   "metadata": {},
   "outputs": [
    {
     "name": "stdout",
     "output_type": "stream",
     "text": [
      "enter last name for population search: smith\n",
      "264255000.0\n"
     ]
    }
   ],
   "source": [
    "def freq(lastName):\n",
    "    fileHandler = open(\"last.txt\", \"r\")\n",
    "    content = fileHandler.readlines()\n",
    "    for line in content:\n",
    "        if lastName in line:\n",
    "            population = line.split()[1]\n",
    "            if population != 0:            \n",
    "                frequency = 3*10**8*float(population)\n",
    "                return frequency\n",
    "\n",
    "lastName = input(\"enter last name for population search: \")\n",
    "lastName = lastName.upper()\n",
    "print(freq(lastName))"
   ]
  },
  {
   "cell_type": "code",
   "execution_count": 19,
   "metadata": {},
   "outputs": [
    {
     "name": "stdout",
     "output_type": "stream",
     "text": [
      "enter last name for population search: martin\n",
      "86196000.0\n"
     ]
    }
   ],
   "source": [
    "def freq(lastName):\n",
    "    fileHandler = open(\"last.txt\", \"r\")\n",
    "    content = fileHandler.readlines()\n",
    "    for line in content:\n",
    "        if lastName in line:\n",
    "            population = line.split()[1]\n",
    "            if population != 0:            \n",
    "                frequency = 3*10**8*float(population)\n",
    "                return frequency\n",
    "\n",
    "lastName = input(\"enter last name for population search: \")\n",
    "lastName = lastName.upper()\n",
    "print(freq(lastName))"
   ]
  },
  {
   "cell_type": "markdown",
   "metadata": {},
   "source": [
    "#### 12. Write a function curconv() that takes as input:\n",
    "\n",
    "      1.\ta currency represented using a string (e.g., 'JPY' for the Japanese Yen or 'EUR' for the Euro)\n",
    "      2.\tan amount\n",
    "\n",
    "      and then converts and returns the amount in US dollars.\n"
   ]
  },
  {
   "cell_type": "code",
   "execution_count": 6,
   "metadata": {},
   "outputs": [
    {
     "name": "stdout",
     "output_type": "stream",
     "text": [
      "Enter the amount to want to convert: 100\n",
      "Enter the currency you want to convert to USD: EUR\n",
      "122.96544\n"
     ]
    }
   ],
   "source": [
    "def curcon(currency, amount):\n",
    "    fileHandler = open(\"currencies.txt\", \"r\")\n",
    "    content = fileHandler.readlines()\n",
    "    for line in content:\n",
    "        if currency in line:      \n",
    "            conversion = line.split()[1]    \n",
    "            convertedAmount = float(conversion)*amount\n",
    "            return convertedAmount\n",
    "       \n",
    "amount = float(input(\"Enter the amount to want to convert: \"))\n",
    "currency = input(\"Enter the currency you want to convert to USD: \")\n",
    "print(curcon(currency, amount))"
   ]
  },
  {
   "cell_type": "markdown",
   "metadata": {},
   "source": [
    "#### 13. Each of the following will cause an exception (an error). Identify what type of exception each will cause."
   ]
  },
  {
   "cell_type": "code",
   "execution_count": 9,
   "metadata": {},
   "outputs": [
    {
     "name": "stdout",
     "output_type": "stream",
     "text": [
      "Cannot add string and int\n"
     ]
    }
   ],
   "source": [
    "try:\n",
    "    print(6 + 'a')\n",
    "except:\n",
    "    print(\"Cannot add string and int\")"
   ]
  },
  {
   "cell_type": "code",
   "execution_count": 10,
   "metadata": {},
   "outputs": [
    {
     "name": "stdout",
     "output_type": "stream",
     "text": [
      "list index out of range\n"
     ]
    }
   ],
   "source": [
    "list = [1,2,3,4,5,6,7,8]\n",
    "try:\n",
    "    print(list[10])\n",
    "except:\n",
    "    print(\"list index out of range\")"
   ]
  },
  {
   "cell_type": "code",
   "execution_count": 11,
   "metadata": {},
   "outputs": [
    {
     "name": "stdout",
     "output_type": "stream",
     "text": [
      "cannot find squareroot of negatives\n"
     ]
    }
   ],
   "source": [
    "import math\n",
    "try:\n",
    "    print(math.sqrt(-1.0))\n",
    "except:\n",
    "    print(\"cannot find squareroot of negatives\")"
   ]
  },
  {
   "cell_type": "code",
   "execution_count": 13,
   "metadata": {},
   "outputs": [
    {
     "name": "stdout",
     "output_type": "stream",
     "text": [
      "b not defined\n"
     ]
    }
   ],
   "source": [
    "try:\n",
    "    print(b)\n",
    "except:\n",
    "    print(\"b not defined\")"
   ]
  },
  {
   "cell_type": "code",
   "execution_count": 16,
   "metadata": {},
   "outputs": [
    {
     "name": "stdout",
     "output_type": "stream",
     "text": [
      "file not found\n"
     ]
    }
   ],
   "source": [
    "try:\n",
    "    file = open(\"DoesNotExist.txt\", \"r\")\n",
    "    print(file.Readlines())\n",
    "except:\n",
    "    print(\"file not found\")"
   ]
  },
  {
   "cell_type": "markdown",
   "metadata": {},
   "source": [
    "#### 14. Many web sites produce tag clouds showing what topics are most discussed, or what words were used in a politician’s speech. The first step of producing such tag clouds is to remove stop words from the text in question. These are common words such as “in”, “on”, “and”, “the”, “that”, and so forth—words that do not vary much in frequency from one speaker to the next and do not indicate a text’s meaning. \n",
    "\n",
    "    Write a function called clean() that takes the name of a text file. It reads the text file and breaks the text into words, removes all the words that are listed in another file stop.txt, and produces a new file, words.txt, with the remaining words in the file listed one per line in lower-case."
   ]
  },
  {
   "cell_type": "code",
   "execution_count": 18,
   "metadata": {},
   "outputs": [
    {
     "name": "stdout",
     "output_type": "stream",
     "text": [
      "added in file\n"
     ]
    }
   ],
   "source": [
    "import re\n",
    "def clean():\n",
    "    stop = open('stop.txt','r')\n",
    "    if stop.mode == 'r':\n",
    "        stopWords = stop.read().lower().split('\\n')\n",
    "    stop.close()\n",
    "\n",
    "    main = open('wilde_quotes.txt','r')\n",
    "    if main.mode == 'r':\n",
    "        mainWords = main.read().lower()\n",
    "        mainWords = mainWords.replace(';','').replace(',','').replace('.','')\n",
    "        newWords = re.split(' |\\n',mainWords)\n",
    "      \n",
    "    main.close()\n",
    "    text = [word for word in newWords if word not in stopWords]\n",
    "    return text\n",
    "\n",
    "newFile = open('words.txt','w')\n",
    "words = clean()\n",
    "if newFile.mode == 'w':\n",
    "    for word in words:\n",
    "        newFile.write(word+\"\\n\")\n",
    "    newFile.close()\n",
    "    print(\"added in file\")"
   ]
  },
  {
   "cell_type": "markdown",
   "metadata": {},
   "source": [
    "#### 15. Write function quote() that takes as input the name of a file (as a string) and an index i (as an integer). The file will contain quotes, one per line. The function should open the file, read the file, close the file, and return the i-th quote (i.e. the i-th line in the file), assuming that the quote numbering starts at 0. Test your solution on file Wilde_Quotes.txt."
   ]
  },
  {
   "cell_type": "code",
   "execution_count": 19,
   "metadata": {},
   "outputs": [
    {
     "name": "stdout",
     "output_type": "stream",
     "text": [
      "Please Enter name of file containing quotes: wilde_quotes.txt\n",
      "Which quote do you want printed?: 5\n",
      "At twilight, nature is not without loveliness, though perhaps its chief use is to illustrate quotations from the poets.\n",
      "\n"
     ]
    }
   ],
   "source": [
    "def quote(file,index):\n",
    "    quote = open(\"Wilde_Quotes.txt\",'r')\n",
    "    if quote.mode == 'r':\n",
    "        quotes = quote.readlines()\n",
    "    return quotes[index]\n",
    "\n",
    "file = input('Please Enter name of file containing quotes: ') \n",
    "index = int(input(\"Which quote do you want printed?: \"))\n",
    "print(quote(file,index))"
   ]
  },
  {
   "cell_type": "code",
   "execution_count": null,
   "metadata": {},
   "outputs": [],
   "source": []
  },
  {
   "cell_type": "code",
   "execution_count": null,
   "metadata": {},
   "outputs": [],
   "source": []
  }
 ],
 "metadata": {
  "kernelspec": {
   "display_name": "Python 3",
   "language": "python",
   "name": "python3"
  },
  "language_info": {
   "codemirror_mode": {
    "name": "ipython",
    "version": 3
   },
   "file_extension": ".py",
   "mimetype": "text/x-python",
   "name": "python",
   "nbconvert_exporter": "python",
   "pygments_lexer": "ipython3",
   "version": "3.7.4"
  }
 },
 "nbformat": 4,
 "nbformat_minor": 2
}
